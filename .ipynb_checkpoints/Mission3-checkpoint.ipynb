{
 "cells": [
  {
   "cell_type": "code",
   "execution_count": 10,
   "id": "77dc1e1f-4d41-4c65-ad21-c2b11296be60",
   "metadata": {},
   "outputs": [],
   "source": [
    "import pandas as pd\n",
    "from collections import Counter\n",
    "import pandas as pd\n",
    "import numpy as np"
   ]
  },
  {
   "cell_type": "code",
   "execution_count": 2,
   "id": "7014976b-2a40-439c-9195-f7f67ecb6d1c",
   "metadata": {},
   "outputs": [
    {
     "name": "stdout",
     "output_type": "stream",
     "text": [
      "chr9\tENSEMBL\tgene\t106056039\t106056126\t.\t+\t.\tgene_id \"ENSMUSG00000065440.3\"; gene_type \"miRNA\"; gene_name \"Mirlet7g\"; level 3; mgi_id \"MGI:2676800\";\n",
      "chr9\tENSEMBL\ttranscript\t106056039\t106056126\t.\t+\t.\tgene_id \"ENSMUSG00000065440.3\"; transcript_id \"ENSMUST00000083506.3\"; gene_type \"miRNA\"; gene_name \"Mirlet7g\"; transcript_type \"miRNA\"; transcript_name \"Mirlet7g-201\"; level 3; transcript_support_level \"NA\"; mgi_id \"MGI:2676800\"; tag \"basic\";\n",
      "chr9\tENSEMBL\texon\t106056039\t106056126\t.\t+\t.\tgene_id \"ENSMUSG00000065440.3\"; transcript_id \"ENSMUST00000083506.3\"; gene_type \"miRNA\"; gene_name \"Mirlet7g\"; transcript_type \"miRNA\"; transcript_name \"Mirlet7g-201\"; exon_number 1; exon_id \"ENSMUSE00000522665.2\"; level 3; transcript_support_level \"NA\"; mgi_id \"MGI:2676800\"; tag \"basic\";\n"
     ]
    }
   ],
   "source": [
    "!grep -i mirlet7g ./gencode.gtf #유전자 annotation 및 좌표 구기기"
   ]
  },
  {
   "cell_type": "code",
   "execution_count": 2,
   "id": "03672e46-82e8-4fcb-b76b-0342eaf47a6b",
   "metadata": {},
   "outputs": [],
   "source": [
    "!samtools index ./CLIP-35L33G.bam"
   ]
  },
  {
   "cell_type": "code",
   "execution_count": 4,
   "id": "7d2ba086-b6ee-4287-a7a5-1ac267f86ccb",
   "metadata": {},
   "outputs": [
    {
     "name": "stdout",
     "output_type": "stream",
     "text": [
      "163\n"
     ]
    }
   ],
   "source": [
    "!samtools view -b -o CLIP-let7g.bam ./CLIP-35L33G.bam chr9:106056039-106056126 #각 유전자 영역에 해당하는 read만 추출\n",
    "!samtools view CLIP-let7g.bam | wc -l"
   ]
  },
  {
   "cell_type": "code",
   "execution_count": 5,
   "id": "bf1bb5c8-bc99-4e40-b4b3-228afbb40596",
   "metadata": {},
   "outputs": [
    {
     "name": "stdout",
     "output_type": "stream",
     "text": [
      "[mpileup] 1 samples in 1 input files\n",
      "<mpileup> Set max per-file depth to 8000\n",
      "68548 CLIP-let7g.pileup\n"
     ]
    }
   ],
   "source": [
    "#각 염기 위치에서의 coverage, mismatch, insertion/deletion 등의 정보를 출력\n",
    "!samtools mpileup CLIP-let7g.bam > CLIP-let7g.pileup\n",
    "!wc -l CLIP-let7g.pileup"
   ]
  },
  {
   "cell_type": "code",
   "execution_count": 6,
   "id": "ef26f0e7-acaa-4c56-9c61-4c994c560399",
   "metadata": {},
   "outputs": [
    {
     "name": "stdout",
     "output_type": "stream",
     "text": [
      "chr9\t106007092\tN\t9\t^Ga^Ia^Ha^Ia^Ga^Ga^Ha^Ia^Ia\t<IFIGGHII\n",
      "chr9\t106007093\tN\t9\tggggggggg\tAFGIEGDII\n",
      "chr9\t106007094\tN\t9\tccccccccc\tEHHIGAFEH\n",
      "chr9\t106007095\tN\t9\taaaaaaaaa\t?HDIFA>II\n",
      "chr9\t106007096\tN\t9\taaaaaaaaa\tEHHIG@CHH\n",
      "chr9\t106007097\tN\t9\tttttttttt\t=HGEGDFII\n",
      "chr9\t106007098\tN\t9\taaaaaaaaa\t?HHIGDEII\n",
      "chr9\t106007099\tN\t9\tg-2nng-2nng-2nng-2nng-2nng-2nng-2nng-2nng-2nn\t?IEHGEDII\n",
      "chr9\t106007100\tN\t9\t*********\t8IBIBC@EI\n",
      "chr9\t106007101\tN\t9\t*********\t8IBIBC@EI\n"
     ]
    }
   ],
   "source": [
    "!head CLIP-let7g.pileup\n",
    "#5번 필드(Read bases)가 중요 \n",
    "#. , : 참조와 동일한 염기(forward reverse)\n",
    "#A/a, T/t, C/c, G/g: mismatch (대문자 = forward strand, 소문자 = reverse strand)\n",
    "#^: read 시작 지점\n",
    "#$: read 끝 지점\n",
    "#+/-: insertion/deletion\n",
    "\n"
   ]
  },
  {
   "cell_type": "code",
   "execution_count": 7,
   "id": "d770f8f9-9ea9-413a-a139-c8528bcea20d",
   "metadata": {},
   "outputs": [
    {
     "name": "stdout",
     "output_type": "stream",
     "text": [
      "chr9\t106056117\tN\t138\t<<<<<<<<<CCCCCCCCCCCCCCCCCCCCCCCCCCCCCCCCCCCCCCCCCCCCCCCCCCCCCCCCCCCCCCCCCCCCCCCCCCCCCCCCCCCCCCCCCCCCCCCCCCCCCCCCCCCCCCCCCCCCCCCCCCCCCCCCC\tBHEIG?DIIHGHII:;HGIIDGGGIIBGEB?>H<GGIIIIDIIGFHIHH9IGG=GGHIDH?DGIBIIHHGGIEIGI8GIDHDG.GGHEDIIDIDGDHIDGIFGHG;DCDDHEE@I?CGG:IHGIBGIHIIDG@DHIGG\n",
      "chr9\t106056118\tN\t139\t<<<<<<<<<CCCCCCCCCCCCCCCCCCCCCCCCCCCCCCCCCCCCCCCCCCCCCCCCCCCCCCCCCCCCCCCCCCCCCCCCCCCCCCCCCCCCCCCCCCCCCCCCCCCCCCCCCCCCCCCCCCCCCCCCCCCCCCCCCC\tBHEIG?DIIHGHII3AHIIIDGGGIIB3EHFBH>GIIIIIIIIIHIIHHAIIGBDGHIDH?GIIGIIHHDIIHIGIGGI=BGG9GIHHHIIGI=IAIIGGIEHGIEBG@DHDE;IBDGG4IGGIGGIIIIGGGDGIH1G\n",
      "chr9\t106056119\tN\t138\t<<<<<<<<<TTTTTTTTTTTTTTTTTTTTTTTTTT$TTTT$TTTTTTTTTTTTTTT$TTTT$TTTTTTT$TTTTTTTTTTTTTTTTTTTTTTTTTTTTTTTTTTTTTTTTTTTTTTTTTTTTTTTTTTTTTTTTTTTTTTTTT\tBHEIG?DIIGEFII:/GIIEDDHDIIF>BH3<HBEGIHIGFIIIBIIBE:HHGD>EGGDH7BIIGGIHHDHIHDEIGEIDHGG;GIHGHHIGD:IGHD:GGEHH?3G87HD</I=DGG=IHHIHBIFII@<HDHHH1G\n",
      "chr9\t106056120\tN\t133\t<<<<<<<<<TTTTTTTTTTTTTTTTTTTTTTTTTTTT$TTTT$TTT$TTTTTTTTTT$TTTTTTTT$TTTTTTTTTTTT$T$TTTTTT$TTTT$TT$TTTTTTTTTTTTTTTTTTT$TTTTTTTTTTTTTTTTTTTTTTTTTTT\tBHEIG?DIIHFBII74BIIIGDIIIIA8DHECHBIIIIIIIIHIIHB?IDGGGFDH?GIIIIHH@GHHGEDDGIEHBEDIHHGIIGI:HBII8DIIHHIBDD;<HDD3HB?@G?HHIIHIIIIIB@HDHDH8G\n",
      "chr9\t106056121\tN\t118\t<<<<<<<<<GGGGGGGGGGGGGGGGGGGG$G$G$G$G$G$G$G$GGGGGG$GG$GGGG$GG$GGGG$G$GGG$GGG$GGG$GGGG$GGGGG$GGGGGGGGG$GGGGGG$GG$GGG$GGG$GGGG$G$GG$GGGGGG$GGGG$G$G$G$G$G$\tBHEIG?DIIB<EDI/7BHHFB<FGHI3?GG>HAIHIFEF@H<<2>D3EE;HBAIIIBH4IHG@DI>G482GGFHID:I9II@BH@>HE8@;<HGI:GGBIDEIBIGIIIE?G@EIH7G\n",
      "chr9\t106056122\tN\t88\t<<<<<<<<<C$C$C$C$C$C$C$C$C$C$C$C$C$CCCCCC$C$C$C$C$C$C$CCC$C$C$C$CC$C$CC$CC$C$C$C$C$C$C$C$C$C$C$C$C$C$CC$C$C$C$C$C$CC$CC$C$CCC$C$C$C$C$CCCCC$CCC$C\tBHEIG?DIIEEGIIC;GIHEGBIIIIB1=FII?FEIGGGHDBIG=HHIIEBHD>EIHIG=I:HGBIIEF?E;DB3HB<GIHIHHEADF\n",
      "chr9\t106056123\tN\t31\t<<<<<<<<<CCCCCCCCCCCCCCCCCCCCCC\tBHEIG?DIIIIII>GIGGIGGD>BIHHHIEH\n",
      "chr9\t106056124\tN\t31\t<<<<<<<<<AAAAAAAAAAAAAAAAAAAAAA\tBHEIG?DIIIIHIGGIGGGIG:9DDBIEGFH\n",
      "chr9\t106056125\tN\t31\t<<<<<<<<<GGGGGGGGGGGGGGGGGGGGGG\tBHEIG?DIIIIIIGGE@GFIGD;GIGIIFHD\n",
      "chr9\t106056126\tN\t30\t<<<<<<<<<GGGGGGGGGGGGGGGGGGGGG\tBHEIG?DIIIIGHGHIGHI>G;GGGIGIHG\n"
     ]
    }
   ],
   "source": [
    "!awk '$2 >= 106056039 && $2 <= 106056126 { print $0; }' CLIP-let7g.pileup > CLIP-let7g-gene.pileup\n",
    "!tail CLIP-let7g-gene.pileup"
   ]
  },
  {
   "cell_type": "code",
   "execution_count": 18,
   "id": "54089606-08ed-44cb-a99d-ab8ca0aab755",
   "metadata": {},
   "outputs": [
    {
     "data": {
      "text/html": [
       "<div>\n",
       "<style scoped>\n",
       "    .dataframe tbody tr th:only-of-type {\n",
       "        vertical-align: middle;\n",
       "    }\n",
       "\n",
       "    .dataframe tbody tr th {\n",
       "        vertical-align: top;\n",
       "    }\n",
       "\n",
       "    .dataframe thead th {\n",
       "        text-align: right;\n",
       "    }\n",
       "</style>\n",
       "<table border=\"1\" class=\"dataframe\">\n",
       "  <thead>\n",
       "    <tr style=\"text-align: right;\">\n",
       "      <th></th>\n",
       "      <th>chrom</th>\n",
       "      <th>pos</th>\n",
       "      <th>_ref</th>\n",
       "      <th>count</th>\n",
       "      <th>basereads</th>\n",
       "      <th>quals</th>\n",
       "    </tr>\n",
       "  </thead>\n",
       "  <tbody>\n",
       "  </tbody>\n",
       "</table>\n",
       "</div>"
      ],
      "text/plain": [
       "Empty DataFrame\n",
       "Columns: [chrom, pos, _ref, count, basereads, quals]\n",
       "Index: []"
      ]
     },
     "execution_count": 18,
     "metadata": {},
     "output_type": "execute_result"
    }
   ],
   "source": [
    "pileup = pd.read_csv('CLIP-let7g-gene.pileup', sep='\\t', names=['chrom', 'pos', '_ref', 'count', 'basereads', 'quals'])\n",
    "pileup.tail()"
   ]
  },
  {
   "cell_type": "code",
   "execution_count": 9,
   "id": "dcb9b52b-0300-472f-b8b1-fd08a1beebd4",
   "metadata": {},
   "outputs": [],
   "source": [
    "import re\n",
    "toremove = re.compile('[<>$*#^]')\n",
    "pileup['matches'] = pileup['basereads'].apply(lambda x: toremove.sub('', x))"
   ]
  },
  {
   "cell_type": "code",
   "execution_count": 10,
   "id": "fdba31fa-2514-472a-97b5-9fbac722a5a0",
   "metadata": {},
   "outputs": [
    {
     "data": {
      "text/html": [
       "<div>\n",
       "<style scoped>\n",
       "    .dataframe tbody tr th:only-of-type {\n",
       "        vertical-align: middle;\n",
       "    }\n",
       "\n",
       "    .dataframe tbody tr th {\n",
       "        vertical-align: top;\n",
       "    }\n",
       "\n",
       "    .dataframe thead th {\n",
       "        text-align: right;\n",
       "    }\n",
       "</style>\n",
       "<table border=\"1\" class=\"dataframe\">\n",
       "  <thead>\n",
       "    <tr style=\"text-align: right;\">\n",
       "      <th></th>\n",
       "      <th>chrom</th>\n",
       "      <th>pos</th>\n",
       "      <th>matches</th>\n",
       "    </tr>\n",
       "  </thead>\n",
       "  <tbody>\n",
       "    <tr>\n",
       "      <th>0</th>\n",
       "      <td>chr9</td>\n",
       "      <td>106056039</td>\n",
       "      <td></td>\n",
       "    </tr>\n",
       "    <tr>\n",
       "      <th>1</th>\n",
       "      <td>chr9</td>\n",
       "      <td>106056040</td>\n",
       "      <td></td>\n",
       "    </tr>\n",
       "    <tr>\n",
       "      <th>2</th>\n",
       "      <td>chr9</td>\n",
       "      <td>106056041</td>\n",
       "      <td></td>\n",
       "    </tr>\n",
       "    <tr>\n",
       "      <th>3</th>\n",
       "      <td>chr9</td>\n",
       "      <td>106056042</td>\n",
       "      <td></td>\n",
       "    </tr>\n",
       "    <tr>\n",
       "      <th>4</th>\n",
       "      <td>chr9</td>\n",
       "      <td>106056043</td>\n",
       "      <td></td>\n",
       "    </tr>\n",
       "    <tr>\n",
       "      <th>...</th>\n",
       "      <td>...</td>\n",
       "      <td>...</td>\n",
       "      <td>...</td>\n",
       "    </tr>\n",
       "    <tr>\n",
       "      <th>83</th>\n",
       "      <td>chr9</td>\n",
       "      <td>106056122</td>\n",
       "      <td>CCCCCCCCCCCCCCCCCCCCCCCCCCCCCCCCCCCCCCCCCCCCCC...</td>\n",
       "    </tr>\n",
       "    <tr>\n",
       "      <th>84</th>\n",
       "      <td>chr9</td>\n",
       "      <td>106056123</td>\n",
       "      <td>CCCCCCCCCCCCCCCCCCCCCC</td>\n",
       "    </tr>\n",
       "    <tr>\n",
       "      <th>85</th>\n",
       "      <td>chr9</td>\n",
       "      <td>106056124</td>\n",
       "      <td>AAAAAAAAAAAAAAAAAAAAAA</td>\n",
       "    </tr>\n",
       "    <tr>\n",
       "      <th>86</th>\n",
       "      <td>chr9</td>\n",
       "      <td>106056125</td>\n",
       "      <td>GGGGGGGGGGGGGGGGGGGGGG</td>\n",
       "    </tr>\n",
       "    <tr>\n",
       "      <th>87</th>\n",
       "      <td>chr9</td>\n",
       "      <td>106056126</td>\n",
       "      <td>GGGGGGGGGGGGGGGGGGGGG</td>\n",
       "    </tr>\n",
       "  </tbody>\n",
       "</table>\n",
       "<p>88 rows × 3 columns</p>\n",
       "</div>"
      ],
      "text/plain": [
       "   chrom        pos                                            matches\n",
       "0   chr9  106056039                                                   \n",
       "1   chr9  106056040                                                   \n",
       "2   chr9  106056041                                                   \n",
       "3   chr9  106056042                                                   \n",
       "4   chr9  106056043                                                   \n",
       "..   ...        ...                                                ...\n",
       "83  chr9  106056122  CCCCCCCCCCCCCCCCCCCCCCCCCCCCCCCCCCCCCCCCCCCCCC...\n",
       "84  chr9  106056123                             CCCCCCCCCCCCCCCCCCCCCC\n",
       "85  chr9  106056124                             AAAAAAAAAAAAAAAAAAAAAA\n",
       "86  chr9  106056125                             GGGGGGGGGGGGGGGGGGGGGG\n",
       "87  chr9  106056126                              GGGGGGGGGGGGGGGGGGGGG\n",
       "\n",
       "[88 rows x 3 columns]"
      ]
     },
     "execution_count": 10,
     "metadata": {},
     "output_type": "execute_result"
    }
   ],
   "source": [
    "pileup[['chrom', 'pos', 'matches']]"
   ]
  },
  {
   "cell_type": "code",
   "execution_count": 18,
   "id": "c436dfc4-5c17-45fa-b7d2-32a880bd4d42",
   "metadata": {},
   "outputs": [
    {
     "data": {
      "text/plain": [
       "'GGGGGGAAAAAAAAGGGGGAAAAAAGCCGCAGGATGAGGTGATAAGGGAGGGGTGAAGGGCGGTGAAGGGGAAAAGAGAAAGAAAAATAAAGGGGGAGTGGGAGGAAGAAGAGAATA'"
      ]
     },
     "execution_count": 18,
     "metadata": {},
     "output_type": "execute_result"
    }
   ],
   "source": [
    "pileup[pileup['pos'] == 106056094].iloc[0]['matches']"
   ]
  },
  {
   "cell_type": "code",
   "execution_count": 20,
   "id": "d1dc4b1f-16f4-4bb2-9d03-8839cd50286d",
   "metadata": {},
   "outputs": [],
   "source": [
    "# Shannon entropy 함수\n",
    "def shannon_entropy(base_counts):\n",
    "    total = sum(base_counts.values())\n",
    "    if total == 0:\n",
    "        return 0\n",
    "    entropy = 0\n",
    "    for count in base_counts.values():\n",
    "        p = count / total\n",
    "        entropy -= p * np.log2(p)\n",
    "    return entropy\n",
    "\n",
    "# A, C, G, T 추출용 helper\n",
    "valid_bases = set('ACGTacgt')\n",
    "\n",
    "# Entropy 계산 결과 저장 리스트\n",
    "records = []\n",
    "\n",
    "for idx, row in pileup2.iterrows():\n",
    "    #print(f\"행 번호: {idx}\")\n",
    "    #print(f\"chromosome: {row['chrom']}, position: {row['pos']}\")\n",
    "    pos = row['pos']\n",
    "    bases = row['matches']\n",
    "    filtered = [b.upper() for b in bases if b.upper() in valid_bases]\n",
    "    #print(filtered)\n",
    "    counts = Counter(filtered)\n",
    "    #print(counts)\n",
    "    entropy = shannon_entropy(counts)\n",
    "    records.append((row['chrom'], pos - 1, pos, entropy))  # bedGraph는 0-based start, 1-based end\n",
    "\n",
    "# DataFrame 생성\n",
    "entropy_df = pd.DataFrame(records, columns=['chrom', 'start', 'end', 'score'])\n"
   ]
  },
  {
   "cell_type": "code",
   "execution_count": 21,
   "id": "c839dc3a-41f8-4dae-a0f8-d69dbfd8caa0",
   "metadata": {},
   "outputs": [],
   "source": [
    "bedgraph_file = \"entropy.bedgraph\"\n",
    "\n",
    "with open(bedgraph_file, 'w') as f:\n",
    "    f.write(\"track type=bedGraph name='ShannonEntropy' description='Shannon entropy per base'\\n\")\n",
    "    for idx, row in entropy_df.iterrows():\n",
    "        f.write(f\"{row['chrom']}\\t{row['start']}\\t{row['end']}\\t{row['score']:.6f}\\n\")\n"
   ]
  },
  {
   "cell_type": "code",
   "execution_count": 1,
   "id": "2b5c0682-7f32-4621-8f5f-3dc5647df0ad",
   "metadata": {},
   "outputs": [
    {
     "name": "stdout",
     "output_type": "stream",
     "text": [
      "chr13\tENSEMBL\tgene\t48689488\t48689590\t.\t-\t.\tgene_id \"ENSMUSG00000065453.3\"; gene_type \"miRNA\"; gene_name \"Mirlet7d\"; level 3; mgi_id \"MGI:2676796\";\n",
      "chr13\tENSEMBL\ttranscript\t48689488\t48689590\t.\t-\t.\tgene_id \"ENSMUSG00000065453.3\"; transcript_id \"ENSMUST00000083519.3\"; gene_type \"miRNA\"; gene_name \"Mirlet7d\"; transcript_type \"miRNA\"; transcript_name \"Mirlet7d-201\"; level 3; transcript_support_level \"NA\"; mgi_id \"MGI:2676796\"; tag \"basic\";\n",
      "chr13\tENSEMBL\texon\t48689488\t48689590\t.\t-\t.\tgene_id \"ENSMUSG00000065453.3\"; transcript_id \"ENSMUST00000083519.3\"; gene_type \"miRNA\"; gene_name \"Mirlet7d\"; transcript_type \"miRNA\"; transcript_name \"Mirlet7d-201\"; exon_number 1; exon_id \"ENSMUSE00000522678.2\"; level 3; transcript_support_level \"NA\"; mgi_id \"MGI:2676796\"; tag \"basic\";\n"
     ]
    }
   ],
   "source": [
    "!grep -i mirlet7d ./gencode.gtf #유전자 annotation 및 좌표 구기"
   ]
  },
  {
   "cell_type": "code",
   "execution_count": 4,
   "id": "094b30b4-ef2b-4f72-92e4-ac70a7e80965",
   "metadata": {},
   "outputs": [
    {
     "name": "stdout",
     "output_type": "stream",
     "text": [
      "187\n"
     ]
    }
   ],
   "source": [
    "!samtools view -b -o CLIP-let7d.bam ./CLIP-35L33G.bam chr13:48689488-48689590 #각 유전자 영역에 해당하는 read만 추출\n",
    "!samtools view CLIP-let7d.bam | wc -l"
   ]
  },
  {
   "cell_type": "code",
   "execution_count": 5,
   "id": "c2022d0a-5614-4912-8517-9fb16e2c5f99",
   "metadata": {},
   "outputs": [
    {
     "name": "stdout",
     "output_type": "stream",
     "text": [
      "[mpileup] 1 samples in 1 input files\n",
      "<mpileup> Set max per-file depth to 8000\n",
      "87 CLIP-let7d.pileup\n"
     ]
    }
   ],
   "source": [
    "#각 염기 위치에서의 coverage, mismatch, insertion/deletion 등의 정보를 출력\n",
    "!samtools mpileup CLIP-let7d.bam > CLIP-let7d.pileup\n",
    "!wc -l CLIP-let7d.pileup"
   ]
  },
  {
   "cell_type": "code",
   "execution_count": 6,
   "id": "7f2ce530-ce56-4fe9-998b-8cdcfdae2e29",
   "metadata": {},
   "outputs": [
    {
     "name": "stdout",
     "output_type": "stream",
     "text": [
      "chr13\t48689488\tN\t24\t^Ga^Ia^Ha^Ia^Ha^Ia^Ia^Ia^Ga^Ia^Ia^Ia^Ia^Ia^Ha^Ia^Ga^Ga^Ga^Ia^Ea^Da^Ha^Ga\tBIHGGIHIEIIIGIHIGEGH5BDD\n",
      "chr13\t48689489\tN\t53\taaaaaaaaaaaaaaaaaaaaaaaaa^Ia^Ha^Ia^Ga^Ga^Ha^Ia^Ia^Ga^Ga^Ia^Ia^Ha^Ia^Ia^Ha^Ha^Da^Ia^Ha^Ia^Ia^Ia^Ia^Ia^Ha^Ga^Ga\tGIHIGIIIEIIIIIHIG>EB4@5HDIHIBEGIID?IIGII@H>IGHIIIGHDC\n",
      "chr13\t48689490\tN\t69\tttttttttttttttttttttttttttttttttttttttttttttttttttttt^Gt^Gt^Ht^Gt^It^It^Ht^It^Gt^Gt^Ht^It^It^It^Ht^It\tGIHIGHIFFIIIIIFHGEDG;2>FDIHIDGBIIDBIIDIIAH>IBGIIIGHBG=BG=IIGIDGHFIIHI\n",
      "chr13\t48689491\tN\t105\taaaaaaaaaaaaaaaaaaaaaaaaaaaaaaaaaaaaaaaaaaaaaaaaaaaaaaaaaaaaaaaaaaaaa^Ia^Ia^Ha^Ga^Ia^Ga^Ia^Ga^Ha^Ha^Ha^Ga^Ia^Ha^Ha^Ia^@a^Ia^Ia^Ia^Ga^Ha^Ha^Ga^Ha^Ga^Ia^Ha^Ga^Ia^Ga^Ha^Ga^Ia^Ia^Ga\tEIGHEHHIEIIIIIHIGCBH:?>HGGHI>GBIIGBIIGIHBB;IHIIIIGHDC3=G:IGGIDEHIFIGHII=GIDHEGHHEIGGI7III9=HGBAIGBIGFG>I2\n",
      "chr13\t48689492\tN\t105\taaaaaaaaaaaaaaaaaaaaaaaaaaaaaaaaaaaaaaaaaaaaaaaaaaaaaaaaaaaaaaaaaaaaaaaaaaaaaaaaaaaaaaaaaaaaaaaaaaaaaaaaa\tGIGIEIEI7IIIGIGIG;?F:D@G7GHIAGAIIG3IIGIHDB2IHIIIIDDGC1<GCIIHIGCHIIIEIIIGCIBIEGHH?HHFI9IIIA=GGB?IEGIFEGGIA\n",
      "chr13\t48689493\tN\t105\tggggggggggggggggggggggggggggggggggggggggggggggggggggggggggggggggggggggggggggggggggggggggggggggggggggggggg\tBIEIGHGI7IHHGIGHG=?F58>E5EHIAGAHIDAHIGII:EDHHIHIIGG>>5EDAIIFFGDHIIHGIII8EIDIBBHHBIGHI7HII?=GGBEIG>HFEGGIA\n",
      "chr13\t48689494\tN\t105\tggggggggggggggggggggggggggggggggggggggggggggggggggggggggggggggggggggggggggggggggggggggggggggggggggggggggg\tFIFEGIFE3HFIGIGHG=?D1?@D5EHIAEADIBFIIGHIBD<IHDGIIGBD>03GEEIHF@DHIIIDIIHEAIDIC>HHBHFDI9FIIE=GGBAIGEFEEGIIA\n",
      "chr13\t48689495\tN\t104\tcccccccccccccccccccccccccccccccccccccccccccccccccccccccccccccccccccccccccccccccccccccccccccccccccccccccc\tGID>GHEG.HIHGH>IG2;B;?>E0BCI8G?FGA?HH@HIB?DHBIIIHGBG90BAEIEF8CEDIHGIIHGAI?I3BGH;HHHE7IIIA=GG:?IFEBF2GBI;\n",
      "chr13\t48689496\tN\t102\tcccccccccccccccccccccccccccccccccccccccccccccccccccccccccccccccccccccccccccccccccccccccccccccccccccccc\tFI8EEGEI.GEB<ID>G38B19>BFFI<D<FGAEFIGDFB@@CH>EHH8B7>BDCEEEBBCHBGEEFHIG?I;IG@HH2EEGI9IIIA>;<@IE<E:CDIG<\n",
      "chr13\t48689497\tN\t104\tcccccccccccccccccccccccccccccccccccccccccccccccccccccccccccccccccccccccccccccccccccccccccccccccccccccccc\tDIHFBIFG.HIIFIGIB3;B993E:IGHAGDIDC3IIHDIBDHBIIIII>;58?A>IIEHBAHBHIGHIEFBI0BG<HHEEGDG.III?7H?>3IE<H8EDGG?\n"
     ]
    }
   ],
   "source": [
    "!head CLIP-let7d.pileup\n",
    "#5번 필드(Read bases)가 중요 \n",
    "#. , : 참조와 동일한 염기(forward reverse)\n",
    "#A/a, T/t, C/c, G/g: mismatch (대문자 = forward strand, 소문자 = reverse strand)\n",
    "#^: read 시작 지점\n",
    "#$: read 끝 지점\n",
    "#+/-: insertion/deletion\n",
    "\n"
   ]
  },
  {
   "cell_type": "code",
   "execution_count": 8,
   "id": "36fafe9f-c339-4895-9c8b-930baabf1495",
   "metadata": {},
   "outputs": [
    {
     "name": "stdout",
     "output_type": "stream",
     "text": [
      "chr13\t48689565\tN\t6\tcccccc\t>IGIIH\n",
      "chr13\t48689566\tN\t6\ttttttt\t:IGFIH\n",
      "chr13\t48689567\tN\t6\taaaaaa\t8IFIFI\n",
      "chr13\t48689568\tN\t6\tcccccc\t?IGIII\n",
      "chr13\t48689569\tN\t6\ttttttt\t;IGIII\n",
      "chr13\t48689570\tN\t5\taaaaa\tEDECD\n",
      "chr13\t48689571\tN\t6\tcccccc\t:GGIGG\n",
      "chr13\t48689572\tN\t6\tcccccc\t:GGIGG\n",
      "chr13\t48689573\tN\t6\ttttttt\t5GGIGG\n",
      "chr13\t48689574\tN\t6\tc$c$c$c$c$c$\t;GGIGG\n"
     ]
    }
   ],
   "source": [
    "!awk '$2 >= 48689488 && $2 <= 48689590 { print $0; }' CLIP-let7d.pileup > CLIP-let7d-gene.pileup\n",
    "!tail CLIP-let7d-gene.pileup"
   ]
  },
  {
   "cell_type": "code",
   "execution_count": 12,
   "id": "130e3c0a-4e85-4e83-b775-785047ca2053",
   "metadata": {},
   "outputs": [
    {
     "data": {
      "text/html": [
       "<div>\n",
       "<style scoped>\n",
       "    .dataframe tbody tr th:only-of-type {\n",
       "        vertical-align: middle;\n",
       "    }\n",
       "\n",
       "    .dataframe tbody tr th {\n",
       "        vertical-align: top;\n",
       "    }\n",
       "\n",
       "    .dataframe thead th {\n",
       "        text-align: right;\n",
       "    }\n",
       "</style>\n",
       "<table border=\"1\" class=\"dataframe\">\n",
       "  <thead>\n",
       "    <tr style=\"text-align: right;\">\n",
       "      <th></th>\n",
       "      <th>chrom</th>\n",
       "      <th>pos</th>\n",
       "      <th>_ref</th>\n",
       "      <th>count</th>\n",
       "      <th>basereads</th>\n",
       "      <th>quals</th>\n",
       "    </tr>\n",
       "  </thead>\n",
       "  <tbody>\n",
       "    <tr>\n",
       "      <th>82</th>\n",
       "      <td>chr13</td>\n",
       "      <td>48689570</td>\n",
       "      <td>N</td>\n",
       "      <td>5</td>\n",
       "      <td>aaaaa</td>\n",
       "      <td>EDECD</td>\n",
       "    </tr>\n",
       "    <tr>\n",
       "      <th>83</th>\n",
       "      <td>chr13</td>\n",
       "      <td>48689571</td>\n",
       "      <td>N</td>\n",
       "      <td>6</td>\n",
       "      <td>cccccc</td>\n",
       "      <td>:GGIGG</td>\n",
       "    </tr>\n",
       "    <tr>\n",
       "      <th>84</th>\n",
       "      <td>chr13</td>\n",
       "      <td>48689572</td>\n",
       "      <td>N</td>\n",
       "      <td>6</td>\n",
       "      <td>cccccc</td>\n",
       "      <td>:GGIGG</td>\n",
       "    </tr>\n",
       "    <tr>\n",
       "      <th>85</th>\n",
       "      <td>chr13</td>\n",
       "      <td>48689573</td>\n",
       "      <td>N</td>\n",
       "      <td>6</td>\n",
       "      <td>tttttt</td>\n",
       "      <td>5GGIGG</td>\n",
       "    </tr>\n",
       "    <tr>\n",
       "      <th>86</th>\n",
       "      <td>chr13</td>\n",
       "      <td>48689574</td>\n",
       "      <td>N</td>\n",
       "      <td>6</td>\n",
       "      <td>c$c$c$c$c$c$</td>\n",
       "      <td>;GGIGG</td>\n",
       "    </tr>\n",
       "  </tbody>\n",
       "</table>\n",
       "</div>"
      ],
      "text/plain": [
       "    chrom       pos _ref  count     basereads   quals\n",
       "82  chr13  48689570    N      5         aaaaa   EDECD\n",
       "83  chr13  48689571    N      6        cccccc  :GGIGG\n",
       "84  chr13  48689572    N      6        cccccc  :GGIGG\n",
       "85  chr13  48689573    N      6        tttttt  5GGIGG\n",
       "86  chr13  48689574    N      6  c$c$c$c$c$c$  ;GGIGG"
      ]
     },
     "execution_count": 12,
     "metadata": {},
     "output_type": "execute_result"
    }
   ],
   "source": [
    "pileup2 = pd.read_csv('CLIP-let7d-gene.pileup', sep='\\t', names=['chrom', 'pos', '_ref', 'count', 'basereads', 'quals'])\n",
    "pileup2.tail()"
   ]
  },
  {
   "cell_type": "code",
   "execution_count": 15,
   "id": "f43d0d96-22aa-4c39-981d-e6b3e3013116",
   "metadata": {},
   "outputs": [],
   "source": [
    "import re\n",
    "toremove2 = re.compile('[<>$*#^]')\n",
    "pileup2['matches'] = pileup2['basereads'].apply(lambda x: toremove.sub('', x))"
   ]
  },
  {
   "cell_type": "code",
   "execution_count": 16,
   "id": "ad6d68a0-baca-41e6-ac83-f353a0a88ffe",
   "metadata": {},
   "outputs": [
    {
     "data": {
      "text/html": [
       "<div>\n",
       "<style scoped>\n",
       "    .dataframe tbody tr th:only-of-type {\n",
       "        vertical-align: middle;\n",
       "    }\n",
       "\n",
       "    .dataframe tbody tr th {\n",
       "        vertical-align: top;\n",
       "    }\n",
       "\n",
       "    .dataframe thead th {\n",
       "        text-align: right;\n",
       "    }\n",
       "</style>\n",
       "<table border=\"1\" class=\"dataframe\">\n",
       "  <thead>\n",
       "    <tr style=\"text-align: right;\">\n",
       "      <th></th>\n",
       "      <th>chrom</th>\n",
       "      <th>pos</th>\n",
       "      <th>matches</th>\n",
       "    </tr>\n",
       "  </thead>\n",
       "  <tbody>\n",
       "    <tr>\n",
       "      <th>0</th>\n",
       "      <td>chr13</td>\n",
       "      <td>48689488</td>\n",
       "      <td>GaIaHaIaHaIaIaIaGaIaIaIaIaIaHaIaGaGaGaIaEaDaHaGa</td>\n",
       "    </tr>\n",
       "    <tr>\n",
       "      <th>1</th>\n",
       "      <td>chr13</td>\n",
       "      <td>48689489</td>\n",
       "      <td>aaaaaaaaaaaaaaaaaaaaaaaaaIaHaIaGaGaHaIaIaGaGaI...</td>\n",
       "    </tr>\n",
       "    <tr>\n",
       "      <th>2</th>\n",
       "      <td>chr13</td>\n",
       "      <td>48689490</td>\n",
       "      <td>tttttttttttttttttttttttttttttttttttttttttttttt...</td>\n",
       "    </tr>\n",
       "    <tr>\n",
       "      <th>3</th>\n",
       "      <td>chr13</td>\n",
       "      <td>48689491</td>\n",
       "      <td>aaaaaaaaaaaaaaaaaaaaaaaaaaaaaaaaaaaaaaaaaaaaaa...</td>\n",
       "    </tr>\n",
       "    <tr>\n",
       "      <th>4</th>\n",
       "      <td>chr13</td>\n",
       "      <td>48689492</td>\n",
       "      <td>aaaaaaaaaaaaaaaaaaaaaaaaaaaaaaaaaaaaaaaaaaaaaa...</td>\n",
       "    </tr>\n",
       "    <tr>\n",
       "      <th>...</th>\n",
       "      <td>...</td>\n",
       "      <td>...</td>\n",
       "      <td>...</td>\n",
       "    </tr>\n",
       "    <tr>\n",
       "      <th>82</th>\n",
       "      <td>chr13</td>\n",
       "      <td>48689570</td>\n",
       "      <td>aaaaa</td>\n",
       "    </tr>\n",
       "    <tr>\n",
       "      <th>83</th>\n",
       "      <td>chr13</td>\n",
       "      <td>48689571</td>\n",
       "      <td>cccccc</td>\n",
       "    </tr>\n",
       "    <tr>\n",
       "      <th>84</th>\n",
       "      <td>chr13</td>\n",
       "      <td>48689572</td>\n",
       "      <td>cccccc</td>\n",
       "    </tr>\n",
       "    <tr>\n",
       "      <th>85</th>\n",
       "      <td>chr13</td>\n",
       "      <td>48689573</td>\n",
       "      <td>tttttt</td>\n",
       "    </tr>\n",
       "    <tr>\n",
       "      <th>86</th>\n",
       "      <td>chr13</td>\n",
       "      <td>48689574</td>\n",
       "      <td>cccccc</td>\n",
       "    </tr>\n",
       "  </tbody>\n",
       "</table>\n",
       "<p>87 rows × 3 columns</p>\n",
       "</div>"
      ],
      "text/plain": [
       "    chrom       pos                                            matches\n",
       "0   chr13  48689488   GaIaHaIaHaIaIaIaGaIaIaIaIaIaHaIaGaGaGaIaEaDaHaGa\n",
       "1   chr13  48689489  aaaaaaaaaaaaaaaaaaaaaaaaaIaHaIaGaGaHaIaIaGaGaI...\n",
       "2   chr13  48689490  tttttttttttttttttttttttttttttttttttttttttttttt...\n",
       "3   chr13  48689491  aaaaaaaaaaaaaaaaaaaaaaaaaaaaaaaaaaaaaaaaaaaaaa...\n",
       "4   chr13  48689492  aaaaaaaaaaaaaaaaaaaaaaaaaaaaaaaaaaaaaaaaaaaaaa...\n",
       "..    ...       ...                                                ...\n",
       "82  chr13  48689570                                              aaaaa\n",
       "83  chr13  48689571                                             cccccc\n",
       "84  chr13  48689572                                             cccccc\n",
       "85  chr13  48689573                                             tttttt\n",
       "86  chr13  48689574                                             cccccc\n",
       "\n",
       "[87 rows x 3 columns]"
      ]
     },
     "execution_count": 16,
     "metadata": {},
     "output_type": "execute_result"
    }
   ],
   "source": [
    "pileup2[['chrom', 'pos', 'matches']]"
   ]
  }
 ],
 "metadata": {
  "kernelspec": {
   "display_name": "Python 3 (ipykernel)",
   "language": "python",
   "name": "python3"
  },
  "language_info": {
   "codemirror_mode": {
    "name": "ipython",
    "version": 3
   },
   "file_extension": ".py",
   "mimetype": "text/x-python",
   "name": "python",
   "nbconvert_exporter": "python",
   "pygments_lexer": "ipython3",
   "version": "3.12.2"
  }
 },
 "nbformat": 4,
 "nbformat_minor": 5
}
