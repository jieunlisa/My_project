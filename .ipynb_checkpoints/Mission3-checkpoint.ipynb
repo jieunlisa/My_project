{
 "cells": [
  {
   "cell_type": "code",
   "execution_count": 1,
   "id": "7014976b-2a40-439c-9195-f7f67ecb6d1c",
   "metadata": {},
   "outputs": [
    {
     "name": "stdout",
     "output_type": "stream",
     "text": [
      "chr9\tENSEMBL\tgene\t106056039\t106056126\t.\t+\t.\tgene_id \"ENSMUSG00000065440.3\"; gene_type \"miRNA\"; gene_name \"Mirlet7g\"; level 3; mgi_id \"MGI:2676800\";\n",
      "chr9\tENSEMBL\ttranscript\t106056039\t106056126\t.\t+\t.\tgene_id \"ENSMUSG00000065440.3\"; transcript_id \"ENSMUST00000083506.3\"; gene_type \"miRNA\"; gene_name \"Mirlet7g\"; transcript_type \"miRNA\"; transcript_name \"Mirlet7g-201\"; level 3; transcript_support_level \"NA\"; mgi_id \"MGI:2676800\"; tag \"basic\";\n",
      "chr9\tENSEMBL\texon\t106056039\t106056126\t.\t+\t.\tgene_id \"ENSMUSG00000065440.3\"; transcript_id \"ENSMUST00000083506.3\"; gene_type \"miRNA\"; gene_name \"Mirlet7g\"; transcript_type \"miRNA\"; transcript_name \"Mirlet7g-201\"; exon_number 1; exon_id \"ENSMUSE00000522665.2\"; level 3; transcript_support_level \"NA\"; mgi_id \"MGI:2676800\"; tag \"basic\";\n"
     ]
    }
   ],
   "source": [
    "!grep -i mirlet7g ./gencode.gtf"
   ]
  },
  {
   "cell_type": "code",
   "execution_count": 8,
   "id": "03672e46-82e8-4fcb-b76b-0342eaf47a6b",
   "metadata": {},
   "outputs": [],
   "source": [
    "!samtools index ./CLIP-35L33G.bam"
   ]
  },
  {
   "cell_type": "code",
   "execution_count": 9,
   "id": "7d2ba086-b6ee-4287-a7a5-1ac267f86ccb",
   "metadata": {},
   "outputs": [
    {
     "name": "stdout",
     "output_type": "stream",
     "text": [
      "163\n"
     ]
    }
   ],
   "source": [
    "!samtools view -b -o CLIP-let7g.bam ./CLIP-35L33G.bam chr9:106056039-106056126\n",
    "!samtools view CLIP-let7g.bam | wc -l"
   ]
  },
  {
   "cell_type": "code",
   "execution_count": 10,
   "id": "bf1bb5c8-bc99-4e40-b4b3-228afbb40596",
   "metadata": {},
   "outputs": [
    {
     "name": "stdout",
     "output_type": "stream",
     "text": [
      "[mpileup] 1 samples in 1 input files\n",
      "<mpileup> Set max per-file depth to 8000\n",
      "68548 CLIP-let7g.pileup\n"
     ]
    }
   ],
   "source": [
    "!samtools mpileup CLIP-let7g.bam > CLIP-let7g.pileup\n",
    "!wc -l CLIP-let7g.pileup"
   ]
  },
  {
   "cell_type": "code",
   "execution_count": 11,
   "id": "ef26f0e7-acaa-4c56-9c61-4c994c560399",
   "metadata": {},
   "outputs": [
    {
     "name": "stdout",
     "output_type": "stream",
     "text": [
      "chr9\t106007092\tN\t9\t^Ga^Ia^Ha^Ia^Ga^Ga^Ha^Ia^Ia\t<IFIGGHII\n",
      "chr9\t106007093\tN\t9\tggggggggg\tAFGIEGDII\n",
      "chr9\t106007094\tN\t9\tccccccccc\tEHHIGAFEH\n",
      "chr9\t106007095\tN\t9\taaaaaaaaa\t?HDIFA>II\n",
      "chr9\t106007096\tN\t9\taaaaaaaaa\tEHHIG@CHH\n",
      "chr9\t106007097\tN\t9\tttttttttt\t=HGEGDFII\n",
      "chr9\t106007098\tN\t9\taaaaaaaaa\t?HHIGDEII\n",
      "chr9\t106007099\tN\t9\tg-2nng-2nng-2nng-2nng-2nng-2nng-2nng-2nng-2nn\t?IEHGEDII\n",
      "chr9\t106007100\tN\t9\t*********\t8IBIBC@EI\n",
      "chr9\t106007101\tN\t9\t*********\t8IBIBC@EI\n"
     ]
    }
   ],
   "source": [
    "!head CLIP-let7g.pileup"
   ]
  },
  {
   "cell_type": "code",
   "execution_count": 12,
   "id": "d770f8f9-9ea9-413a-a139-c8528bcea20d",
   "metadata": {},
   "outputs": [
    {
     "name": "stdout",
     "output_type": "stream",
     "text": [
      "chr9\t106056117\tN\t138\t<<<<<<<<<CCCCCCCCCCCCCCCCCCCCCCCCCCCCCCCCCCCCCCCCCCCCCCCCCCCCCCCCCCCCCCCCCCCCCCCCCCCCCCCCCCCCCCCCCCCCCCCCCCCCCCCCCCCCCCCCCCCCCCCCCCCCCCCCC\tBHEIG?DIIHGHII:;HGIIDGGGIIBGEB?>H<GGIIIIDIIGFHIHH9IGG=GGHIDH?DGIBIIHHGGIEIGI8GIDHDG.GGHEDIIDIDGDHIDGIFGHG;DCDDHEE@I?CGG:IHGIBGIHIIDG@DHIGG\n",
      "chr9\t106056118\tN\t139\t<<<<<<<<<CCCCCCCCCCCCCCCCCCCCCCCCCCCCCCCCCCCCCCCCCCCCCCCCCCCCCCCCCCCCCCCCCCCCCCCCCCCCCCCCCCCCCCCCCCCCCCCCCCCCCCCCCCCCCCCCCCCCCCCCCCCCCCCCCC\tBHEIG?DIIHGHII3AHIIIDGGGIIB3EHFBH>GIIIIIIIIIHIIHHAIIGBDGHIDH?GIIGIIHHDIIHIGIGGI=BGG9GIHHHIIGI=IAIIGGIEHGIEBG@DHDE;IBDGG4IGGIGGIIIIGGGDGIH1G\n",
      "chr9\t106056119\tN\t138\t<<<<<<<<<TTTTTTTTTTTTTTTTTTTTTTTTTT$TTTT$TTTTTTTTTTTTTTT$TTTT$TTTTTTT$TTTTTTTTTTTTTTTTTTTTTTTTTTTTTTTTTTTTTTTTTTTTTTTTTTTTTTTTTTTTTTTTTTTTTTTTT\tBHEIG?DIIGEFII:/GIIEDDHDIIF>BH3<HBEGIHIGFIIIBIIBE:HHGD>EGGDH7BIIGGIHHDHIHDEIGEIDHGG;GIHGHHIGD:IGHD:GGEHH?3G87HD</I=DGG=IHHIHBIFII@<HDHHH1G\n",
      "chr9\t106056120\tN\t133\t<<<<<<<<<TTTTTTTTTTTTTTTTTTTTTTTTTTTT$TTTT$TTT$TTTTTTTTTT$TTTTTTTT$TTTTTTTTTTTT$T$TTTTTT$TTTT$TT$TTTTTTTTTTTTTTTTTTT$TTTTTTTTTTTTTTTTTTTTTTTTTTT\tBHEIG?DIIHFBII74BIIIGDIIIIA8DHECHBIIIIIIIIHIIHB?IDGGGFDH?GIIIIHH@GHHGEDDGIEHBEDIHHGIIGI:HBII8DIIHHIBDD;<HDD3HB?@G?HHIIHIIIIIB@HDHDH8G\n",
      "chr9\t106056121\tN\t118\t<<<<<<<<<GGGGGGGGGGGGGGGGGGGG$G$G$G$G$G$G$G$GGGGGG$GG$GGGG$GG$GGGG$G$GGG$GGG$GGG$GGGG$GGGGG$GGGGGGGGG$GGGGGG$GG$GGG$GGG$GGGG$G$GG$GGGGGG$GGGG$G$G$G$G$G$\tBHEIG?DIIB<EDI/7BHHFB<FGHI3?GG>HAIHIFEF@H<<2>D3EE;HBAIIIBH4IHG@DI>G482GGFHID:I9II@BH@>HE8@;<HGI:GGBIDEIBIGIIIE?G@EIH7G\n",
      "chr9\t106056122\tN\t88\t<<<<<<<<<C$C$C$C$C$C$C$C$C$C$C$C$C$CCCCCC$C$C$C$C$C$C$CCC$C$C$C$CC$C$CC$CC$C$C$C$C$C$C$C$C$C$C$C$C$C$CC$C$C$C$C$C$CC$CC$C$CCC$C$C$C$C$CCCCC$CCC$C\tBHEIG?DIIEEGIIC;GIHEGBIIIIB1=FII?FEIGGGHDBIG=HHIIEBHD>EIHIG=I:HGBIIEF?E;DB3HB<GIHIHHEADF\n",
      "chr9\t106056123\tN\t31\t<<<<<<<<<CCCCCCCCCCCCCCCCCCCCCC\tBHEIG?DIIIIII>GIGGIGGD>BIHHHIEH\n",
      "chr9\t106056124\tN\t31\t<<<<<<<<<AAAAAAAAAAAAAAAAAAAAAA\tBHEIG?DIIIIHIGGIGGGIG:9DDBIEGFH\n",
      "chr9\t106056125\tN\t31\t<<<<<<<<<GGGGGGGGGGGGGGGGGGGGGG\tBHEIG?DIIIIIIGGE@GFIGD;GIGIIFHD\n",
      "chr9\t106056126\tN\t30\t<<<<<<<<<GGGGGGGGGGGGGGGGGGGGG\tBHEIG?DIIIIGHGHIGHI>G;GGGIGIHG\n"
     ]
    }
   ],
   "source": [
    "!awk '$2 >= 106056039 && $2 <= 106056126 { print $0; }' CLIP-let7g.pileup > CLIP-let7g-gene.pileup\n",
    "!tail CLIP-let7g-gene.pileup"
   ]
  },
  {
   "cell_type": "code",
   "execution_count": 13,
   "id": "54089606-08ed-44cb-a99d-ab8ca0aab755",
   "metadata": {},
   "outputs": [
    {
     "data": {
      "text/html": [
       "<div>\n",
       "<style scoped>\n",
       "    .dataframe tbody tr th:only-of-type {\n",
       "        vertical-align: middle;\n",
       "    }\n",
       "\n",
       "    .dataframe tbody tr th {\n",
       "        vertical-align: top;\n",
       "    }\n",
       "\n",
       "    .dataframe thead th {\n",
       "        text-align: right;\n",
       "    }\n",
       "</style>\n",
       "<table border=\"1\" class=\"dataframe\">\n",
       "  <thead>\n",
       "    <tr style=\"text-align: right;\">\n",
       "      <th></th>\n",
       "      <th>chrom</th>\n",
       "      <th>pos</th>\n",
       "      <th>_ref</th>\n",
       "      <th>count</th>\n",
       "      <th>basereads</th>\n",
       "      <th>quals</th>\n",
       "    </tr>\n",
       "  </thead>\n",
       "  <tbody>\n",
       "    <tr>\n",
       "      <th>83</th>\n",
       "      <td>chr9</td>\n",
       "      <td>106056122</td>\n",
       "      <td>N</td>\n",
       "      <td>88</td>\n",
       "      <td>&lt;&lt;&lt;&lt;&lt;&lt;&lt;&lt;&lt;C$C$C$C$C$C$C$C$C$C$C$C$C$CCCCCC$C$C$...</td>\n",
       "      <td>BHEIG?DIIEEGIIC;GIHEGBIIIIB1=FII?FEIGGGHDBIG=H...</td>\n",
       "    </tr>\n",
       "    <tr>\n",
       "      <th>84</th>\n",
       "      <td>chr9</td>\n",
       "      <td>106056123</td>\n",
       "      <td>N</td>\n",
       "      <td>31</td>\n",
       "      <td>&lt;&lt;&lt;&lt;&lt;&lt;&lt;&lt;&lt;CCCCCCCCCCCCCCCCCCCCCC</td>\n",
       "      <td>BHEIG?DIIIIII&gt;GIGGIGGD&gt;BIHHHIEH</td>\n",
       "    </tr>\n",
       "    <tr>\n",
       "      <th>85</th>\n",
       "      <td>chr9</td>\n",
       "      <td>106056124</td>\n",
       "      <td>N</td>\n",
       "      <td>31</td>\n",
       "      <td>&lt;&lt;&lt;&lt;&lt;&lt;&lt;&lt;&lt;AAAAAAAAAAAAAAAAAAAAAA</td>\n",
       "      <td>BHEIG?DIIIIHIGGIGGGIG:9DDBIEGFH</td>\n",
       "    </tr>\n",
       "    <tr>\n",
       "      <th>86</th>\n",
       "      <td>chr9</td>\n",
       "      <td>106056125</td>\n",
       "      <td>N</td>\n",
       "      <td>31</td>\n",
       "      <td>&lt;&lt;&lt;&lt;&lt;&lt;&lt;&lt;&lt;GGGGGGGGGGGGGGGGGGGGGG</td>\n",
       "      <td>BHEIG?DIIIIIIGGE@GFIGD;GIGIIFHD</td>\n",
       "    </tr>\n",
       "    <tr>\n",
       "      <th>87</th>\n",
       "      <td>chr9</td>\n",
       "      <td>106056126</td>\n",
       "      <td>N</td>\n",
       "      <td>30</td>\n",
       "      <td>&lt;&lt;&lt;&lt;&lt;&lt;&lt;&lt;&lt;GGGGGGGGGGGGGGGGGGGGG</td>\n",
       "      <td>BHEIG?DIIIIGHGHIGHI&gt;G;GGGIGIHG</td>\n",
       "    </tr>\n",
       "  </tbody>\n",
       "</table>\n",
       "</div>"
      ],
      "text/plain": [
       "   chrom        pos _ref  count  \\\n",
       "83  chr9  106056122    N     88   \n",
       "84  chr9  106056123    N     31   \n",
       "85  chr9  106056124    N     31   \n",
       "86  chr9  106056125    N     31   \n",
       "87  chr9  106056126    N     30   \n",
       "\n",
       "                                            basereads  \\\n",
       "83  <<<<<<<<<C$C$C$C$C$C$C$C$C$C$C$C$C$CCCCCC$C$C$...   \n",
       "84                    <<<<<<<<<CCCCCCCCCCCCCCCCCCCCCC   \n",
       "85                    <<<<<<<<<AAAAAAAAAAAAAAAAAAAAAA   \n",
       "86                    <<<<<<<<<GGGGGGGGGGGGGGGGGGGGGG   \n",
       "87                     <<<<<<<<<GGGGGGGGGGGGGGGGGGGGG   \n",
       "\n",
       "                                                quals  \n",
       "83  BHEIG?DIIEEGIIC;GIHEGBIIIIB1=FII?FEIGGGHDBIG=H...  \n",
       "84                    BHEIG?DIIIIII>GIGGIGGD>BIHHHIEH  \n",
       "85                    BHEIG?DIIIIHIGGIGGGIG:9DDBIEGFH  \n",
       "86                    BHEIG?DIIIIIIGGE@GFIGD;GIGIIFHD  \n",
       "87                     BHEIG?DIIIIGHGHIGHI>G;GGGIGIHG  "
      ]
     },
     "execution_count": 13,
     "metadata": {},
     "output_type": "execute_result"
    }
   ],
   "source": [
    "import pandas as pd\n",
    "\n",
    "pileup = pd.read_csv('CLIP-let7g-gene.pileup', sep='\\t', names=['chrom', 'pos', '_ref', 'count', 'basereads', 'quals'])\n",
    "pileup.tail()"
   ]
  },
  {
   "cell_type": "code",
   "execution_count": 14,
   "id": "dcb9b52b-0300-472f-b8b1-fd08a1beebd4",
   "metadata": {},
   "outputs": [],
   "source": [
    "import re\n",
    "toremove = re.compile('[<>$*#^]')\n",
    "pileup['matches'] = pileup['basereads'].apply(lambda x: toremove.sub('', x))"
   ]
  },
  {
   "cell_type": "code",
   "execution_count": 15,
   "id": "fdba31fa-2514-472a-97b5-9fbac722a5a0",
   "metadata": {},
   "outputs": [
    {
     "data": {
      "text/html": [
       "<div>\n",
       "<style scoped>\n",
       "    .dataframe tbody tr th:only-of-type {\n",
       "        vertical-align: middle;\n",
       "    }\n",
       "\n",
       "    .dataframe tbody tr th {\n",
       "        vertical-align: top;\n",
       "    }\n",
       "\n",
       "    .dataframe thead th {\n",
       "        text-align: right;\n",
       "    }\n",
       "</style>\n",
       "<table border=\"1\" class=\"dataframe\">\n",
       "  <thead>\n",
       "    <tr style=\"text-align: right;\">\n",
       "      <th></th>\n",
       "      <th>chrom</th>\n",
       "      <th>pos</th>\n",
       "      <th>matches</th>\n",
       "    </tr>\n",
       "  </thead>\n",
       "  <tbody>\n",
       "    <tr>\n",
       "      <th>0</th>\n",
       "      <td>chr9</td>\n",
       "      <td>106056039</td>\n",
       "      <td></td>\n",
       "    </tr>\n",
       "    <tr>\n",
       "      <th>1</th>\n",
       "      <td>chr9</td>\n",
       "      <td>106056040</td>\n",
       "      <td></td>\n",
       "    </tr>\n",
       "    <tr>\n",
       "      <th>2</th>\n",
       "      <td>chr9</td>\n",
       "      <td>106056041</td>\n",
       "      <td></td>\n",
       "    </tr>\n",
       "    <tr>\n",
       "      <th>3</th>\n",
       "      <td>chr9</td>\n",
       "      <td>106056042</td>\n",
       "      <td></td>\n",
       "    </tr>\n",
       "    <tr>\n",
       "      <th>4</th>\n",
       "      <td>chr9</td>\n",
       "      <td>106056043</td>\n",
       "      <td></td>\n",
       "    </tr>\n",
       "    <tr>\n",
       "      <th>...</th>\n",
       "      <td>...</td>\n",
       "      <td>...</td>\n",
       "      <td>...</td>\n",
       "    </tr>\n",
       "    <tr>\n",
       "      <th>83</th>\n",
       "      <td>chr9</td>\n",
       "      <td>106056122</td>\n",
       "      <td>CCCCCCCCCCCCCCCCCCCCCCCCCCCCCCCCCCCCCCCCCCCCCC...</td>\n",
       "    </tr>\n",
       "    <tr>\n",
       "      <th>84</th>\n",
       "      <td>chr9</td>\n",
       "      <td>106056123</td>\n",
       "      <td>CCCCCCCCCCCCCCCCCCCCCC</td>\n",
       "    </tr>\n",
       "    <tr>\n",
       "      <th>85</th>\n",
       "      <td>chr9</td>\n",
       "      <td>106056124</td>\n",
       "      <td>AAAAAAAAAAAAAAAAAAAAAA</td>\n",
       "    </tr>\n",
       "    <tr>\n",
       "      <th>86</th>\n",
       "      <td>chr9</td>\n",
       "      <td>106056125</td>\n",
       "      <td>GGGGGGGGGGGGGGGGGGGGGG</td>\n",
       "    </tr>\n",
       "    <tr>\n",
       "      <th>87</th>\n",
       "      <td>chr9</td>\n",
       "      <td>106056126</td>\n",
       "      <td>GGGGGGGGGGGGGGGGGGGGG</td>\n",
       "    </tr>\n",
       "  </tbody>\n",
       "</table>\n",
       "<p>88 rows × 3 columns</p>\n",
       "</div>"
      ],
      "text/plain": [
       "   chrom        pos                                            matches\n",
       "0   chr9  106056039                                                   \n",
       "1   chr9  106056040                                                   \n",
       "2   chr9  106056041                                                   \n",
       "3   chr9  106056042                                                   \n",
       "4   chr9  106056043                                                   \n",
       "..   ...        ...                                                ...\n",
       "83  chr9  106056122  CCCCCCCCCCCCCCCCCCCCCCCCCCCCCCCCCCCCCCCCCCCCCC...\n",
       "84  chr9  106056123                             CCCCCCCCCCCCCCCCCCCCCC\n",
       "85  chr9  106056124                             AAAAAAAAAAAAAAAAAAAAAA\n",
       "86  chr9  106056125                             GGGGGGGGGGGGGGGGGGGGGG\n",
       "87  chr9  106056126                              GGGGGGGGGGGGGGGGGGGGG\n",
       "\n",
       "[88 rows x 3 columns]"
      ]
     },
     "execution_count": 15,
     "metadata": {},
     "output_type": "execute_result"
    }
   ],
   "source": [
    "pileup[['chrom', 'pos', 'matches']]"
   ]
  },
  {
   "cell_type": "code",
   "execution_count": 16,
   "id": "c436dfc4-5c17-45fa-b7d2-32a880bd4d42",
   "metadata": {},
   "outputs": [
    {
     "data": {
      "text/plain": [
       "'GGGGGGAAAAAAAAGGGGGAAAAAAGCCGCAGGATGAGGTGATAAGGGAGGGGTGAAGGGCGGTGAAGGGGAAAAGAGAAAGAAAAATAAAGGGGGAGTGGGAGGAAGAAGAGAATA'"
      ]
     },
     "execution_count": 16,
     "metadata": {},
     "output_type": "execute_result"
    }
   ],
   "source": [
    "pileup[pileup['pos'] == 106056094].iloc[0]['matches']"
   ]
  }
 ],
 "metadata": {
  "kernelspec": {
   "display_name": "Python 3 (ipykernel)",
   "language": "python",
   "name": "python3"
  },
  "language_info": {
   "codemirror_mode": {
    "name": "ipython",
    "version": 3
   },
   "file_extension": ".py",
   "mimetype": "text/x-python",
   "name": "python",
   "nbconvert_exporter": "python",
   "pygments_lexer": "ipython3",
   "version": "3.12.2"
  }
 },
 "nbformat": 4,
 "nbformat_minor": 5
}
